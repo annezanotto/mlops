{
 "cells": [
  {
   "cell_type": "code",
   "execution_count": 19,
   "id": "7788b986",
   "metadata": {},
   "outputs": [
    {
     "data": {
      "text/plain": [
       "<Experiment: artifact_location='mlflow-artifacts:/841751806059865456', creation_time=1744756879890, experiment_id='841751806059865456', last_update_time=1744756879890, lifecycle_stage='active', name='iris_classification', tags={}>"
      ]
     },
     "execution_count": 19,
     "metadata": {},
     "output_type": "execute_result"
    }
   ],
   "source": [
    "import mlflow\n",
    "import mlflow.sklearn\n",
    "from sklearn.model_selection import train_test_split\n",
    "from sklearn.metrics import accuracy_score, f1_score\n",
    "from sklearn.ensemble import RandomForestClassifier\n",
    "from xgboost import XGBClassifier\n",
    "from sklearn.datasets import load_iris\n",
    "import pandas as pd\n",
    "\n",
    "# Set MLflow tracking server\n",
    "mlflow.set_tracking_uri(\"http://localhost:8080\")\n",
    "mlflow.set_experiment(\"iris_classification\")\n",
    "\n",
    "\n"
   ]
  },
  {
   "cell_type": "code",
   "execution_count": 20,
   "id": "28e24c60",
   "metadata": {},
   "outputs": [],
   "source": [
    "# Load and split data\n",
    "X, y = load_iris(return_X_y=True, as_frame=True)\n",
    "X_train, X_test, y_train, y_test = train_test_split(X, y, random_state=42)\n",
    "\n"
   ]
  },
  {
   "cell_type": "code",
   "execution_count": 21,
   "id": "7338b6f3",
   "metadata": {},
   "outputs": [],
   "source": [
    "models = {\n",
    "    \"RandomForest\": RandomForestClassifier(),\n",
    "    \"XGBoost\": XGBClassifier(use_label_encoder=False, eval_metric='mlogloss')\n",
    "}\n",
    "\n"
   ]
  },
  {
   "cell_type": "code",
   "execution_count": 25,
   "id": "d7a36f65",
   "metadata": {},
   "outputs": [
    {
     "name": "stderr",
     "output_type": "stream",
     "text": [
      "Registered model 'iris_model' already exists. Creating a new version of this model...\n",
      "2025/04/15 20:21:55 INFO mlflow.store.model_registry.abstract_store: Waiting up to 300 seconds for model version to finish creation. Model name: iris_model, version 9\n",
      "Created version '9' of model 'iris_model'.\n",
      "/Users/andre/Projects/.venv/lib/python3.11/site-packages/xgboost/training.py:183: UserWarning: [20:21:55] WARNING: /Users/runner/work/xgboost/xgboost/src/learner.cc:738: \n",
      "Parameters: { \"use_label_encoder\" } are not used.\n",
      "\n",
      "  bst.update(dtrain, iteration=i, fobj=obj)\n"
     ]
    },
    {
     "name": "stdout",
     "output_type": "stream",
     "text": [
      "RandomForest - Accuracy: 1.0000, F1: 1.0000\n",
      "🏃 View run RandomForest at: http://localhost:8080/#/experiments/841751806059865456/runs/3cbe421323f54f44959cd4169df209b6\n",
      "🧪 View experiment at: http://localhost:8080/#/experiments/841751806059865456\n"
     ]
    },
    {
     "name": "stderr",
     "output_type": "stream",
     "text": [
      "Registered model 'iris_model' already exists. Creating a new version of this model...\n",
      "2025/04/15 20:21:56 INFO mlflow.store.model_registry.abstract_store: Waiting up to 300 seconds for model version to finish creation. Model name: iris_model, version 10\n"
     ]
    },
    {
     "name": "stdout",
     "output_type": "stream",
     "text": [
      "XGBoost - Accuracy: 1.0000, F1: 1.0000\n",
      "🏃 View run XGBoost at: http://localhost:8080/#/experiments/841751806059865456/runs/19a032fae0324da9b73ec51b9b8e703e\n",
      "🧪 View experiment at: http://localhost:8080/#/experiments/841751806059865456\n"
     ]
    },
    {
     "name": "stderr",
     "output_type": "stream",
     "text": [
      "Created version '10' of model 'iris_model'.\n"
     ]
    }
   ],
   "source": [
    "import mlflow\n",
    "import mlflow.sklearn\n",
    "from mlflow.models.signature import infer_signature\n",
    "import pandas as pd\n",
    "\n",
    "# Example input\n",
    "input_example = pd.DataFrame({\n",
    "    \"sepal length (cm)\": [5.1],\n",
    "    \"sepal width (cm)\": [3.5],\n",
    "    \"petal length (cm)\": [1.4],\n",
    "    \"petal width (cm)\": [0.2]\n",
    "})\n",
    "\n",
    "# Iterate over models and log them with MLflow\n",
    "for name, model in models.items():\n",
    "    with mlflow.start_run(run_name=name):\n",
    "        # Train the model\n",
    "        model.fit(X_train, y_train)\n",
    "        \n",
    "        # Make predictions\n",
    "        preds = model.predict(X_test)\n",
    "        \n",
    "        # Calculate metrics\n",
    "        acc = accuracy_score(y_test, preds)\n",
    "        f1 = f1_score(y_test, preds, average=\"macro\")\n",
    "        \n",
    "        # Log metrics\n",
    "        mlflow.log_metric(\"accuracy\", acc)\n",
    "        mlflow.log_metric(\"f1_score\", f1)\n",
    "        \n",
    "        # Infer model signature after training\n",
    "        signature = infer_signature(X_train, model.predict(X_train))\n",
    "        \n",
    "        # Log the model with signature and input example\n",
    "        mlflow.sklearn.log_model(\n",
    "            sk_model=model,\n",
    "            artifact_path=\"model\",\n",
    "            registered_model_name=\"iris_model\",\n",
    "            signature=signature,\n",
    "            input_example=input_example,\n",
    "            pip_requirements=[\n",
    "                \"scikit-learn\",\n",
    "                \"xgboost\",\n",
    "                \"pandas\",\n",
    "                \"mlflow\",\n",
    "                \"fastapi\",\n",
    "                \"evidently\"\n",
    "            ]\n",
    "        )\n",
    "        \n",
    "        # Print metrics\n",
    "        print(f\"{name} - Accuracy: {acc:.4f}, F1: {f1:.4f}\")\n"
   ]
  },
  {
   "cell_type": "code",
   "execution_count": 27,
   "id": "768c9dac",
   "metadata": {},
   "outputs": [
    {
     "name": "stderr",
     "output_type": "stream",
     "text": [
      "Downloading artifacts:  29%|██▊       | 2/7 [00:00<00:00, 89.46it/s]"
     ]
    },
    {
     "name": "stderr",
     "output_type": "stream",
     "text": [
      "Downloading artifacts: 100%|██████████| 7/7 [00:00<00:00, 98.06it/s] "
     ]
    },
    {
     "name": "stdout",
     "output_type": "stream",
     "text": [
      "[0]\n"
     ]
    },
    {
     "name": "stderr",
     "output_type": "stream",
     "text": [
      "\n"
     ]
    }
   ],
   "source": [
    "from mlflow.sklearn import load_model\n",
    "\n",
    "# Load the model\n",
    "model_uri = \"models:/iris_model/latest\"\n",
    "model = load_model(model_uri)\n",
    "\n",
    "# Test inference\n",
    "test_input = pd.DataFrame({\n",
    "    \"sepal length (cm)\": [5.1],\n",
    "    \"sepal width (cm)\": [3.5],\n",
    "    \"petal length (cm)\": [1.4],\n",
    "    \"petal width (cm)\": [0.2]\n",
    "})\n",
    "predictions = model.predict(test_input)\n",
    "print(predictions)"
   ]
  },
  {
   "cell_type": "code",
   "execution_count": 32,
   "id": "92891af2",
   "metadata": {},
   "outputs": [
    {
     "name": "stdout",
     "output_type": "stream",
     "text": [
      "Prediction: setosa\n"
     ]
    }
   ],
   "source": [
    "import requests\n",
    "import pandas as pd\n",
    "\n",
    "# Create input data\n",
    "data = pd.DataFrame(\n",
    "    [[5.1, 3.5, 1.4, 0.2]],\n",
    "    columns=[\"sepal length (cm)\", \"sepal width (cm)\", \"petal length (cm)\", \"petal width (cm)\"]\n",
    ")\n",
    "\n",
    "\n",
    "# Prediction endpoint\n",
    "url = \"http://127.0.0.1:12345/invocations\"\n",
    "\n",
    "# Send the request using dataframe_split format\n",
    "response = requests.post(\n",
    "    url,\n",
    "    headers={\"Content-Type\": \"application/json\"},\n",
    "    json={\n",
    "        \"dataframe_split\": {\n",
    "            \"columns\": data.columns.tolist(),\n",
    "            \"data\": data.values.tolist()\n",
    "        }\n",
    "    }\n",
    ")\n",
    "\n",
    "# Response\n",
    "raw_prediction = response.json()\n",
    "\n",
    "# Assuming the prediction is in a key like 'predictions' or similar\n",
    "# Adjust this based on the actual structure of the response\n",
    "predicted_class = raw_prediction[0] if isinstance(raw_prediction, list) else raw_prediction.get(\"predictions\", [])[0]\n",
    "\n",
    "# Map class to label\n",
    "label_map = {0: \"setosa\", 1: \"versicolor\", 2: \"virginica\"}\n",
    "label = label_map.get(predicted_class, \"unknown\")\n",
    "\n",
    "print(f\"Prediction: {label}\")"
   ]
  },
  {
   "cell_type": "code",
   "execution_count": null,
   "id": "58a0e59a",
   "metadata": {},
   "outputs": [],
   "source": []
  }
 ],
 "metadata": {
  "kernelspec": {
   "display_name": ".venv",
   "language": "python",
   "name": "python3"
  },
  "language_info": {
   "codemirror_mode": {
    "name": "ipython",
    "version": 3
   },
   "file_extension": ".py",
   "mimetype": "text/x-python",
   "name": "python",
   "nbconvert_exporter": "python",
   "pygments_lexer": "ipython3",
   "version": "3.11.2"
  }
 },
 "nbformat": 4,
 "nbformat_minor": 5
}
